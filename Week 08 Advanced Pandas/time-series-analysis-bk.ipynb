{
 "cells": [
  {
   "cell_type": "code",
   "execution_count": 1,
   "metadata": {},
   "outputs": [],
   "source": [
    "import numpy as np\n",
    "import pandas as pd"
   ]
  },
  {
   "cell_type": "code",
   "execution_count": 2,
   "metadata": {},
   "outputs": [
    {
     "data": {
      "text/plain": [
       "0      Friday\n",
       "1    Saturday\n",
       "2    Saturday\n",
       "dtype: object"
      ]
     },
     "execution_count": 2,
     "metadata": {},
     "output_type": "execute_result"
    }
   ],
   "source": [
    "# till now\n",
    "# Timestamp\n",
    "pd.Timestamp('6th jan 2023 8:10')\n",
    "# DatetimeIndex -> df and series index\n",
    "pd.DatetimeIndex([pd.Timestamp('6th jan 2023 8:10'),pd.Timestamp('7th jan 2023 8:10'),pd.Timestamp('8th jan 2023 8:10')])[0]\n",
    "# date_range()\n",
    "pd.date_range(start='2023-1-6',end='2023-1-31',freq='D')\n",
    "# to_datetime()\n",
    "s = pd.Series(['2023/1/6','2023/1/7','2023/1/7'])\n",
    "pd.to_datetime(s).dt.day_name()"
   ]
  },
  {
   "cell_type": "markdown",
   "metadata": {},
   "source": [
    "#### TimeDelta Object\n",
    "\n",
    "Represents a duration,the difference between 2 dates and times"
   ]
  },
  {
   "cell_type": "code",
   "execution_count": 4,
   "metadata": {},
   "outputs": [
    {
     "data": {
      "text/plain": [
       "Timedelta('20 days 01:39:47')"
      ]
     },
     "execution_count": 4,
     "metadata": {},
     "output_type": "execute_result"
    }
   ],
   "source": [
    "# Create using timestamp objects\n",
    "t1 = pd.Timestamp('6th Jan 2025 8:20:13')\n",
    "t2 = pd.Timestamp('26th Jan 2025 10:00:00')\n",
    "\n",
    "t2 - t1"
   ]
  },
  {
   "cell_type": "code",
   "execution_count": 5,
   "metadata": {},
   "outputs": [
    {
     "data": {
      "text/plain": [
       "Timedelta('2 days 10:35:00')"
      ]
     },
     "execution_count": 5,
     "metadata": {},
     "output_type": "execute_result"
    }
   ],
   "source": [
    "#standalone creation\n",
    "pd.Timedelta(days=2,hours=10,minutes=35)"
   ]
  },
  {
   "cell_type": "code",
   "execution_count": 6,
   "metadata": {},
   "outputs": [
    {
     "data": {
      "text/plain": [
       "Timestamp('2025-01-08 10:35:00')"
      ]
     },
     "execution_count": 6,
     "metadata": {},
     "output_type": "execute_result"
    }
   ],
   "source": [
    "#Arithmatic\n",
    "pd.Timestamp('6th Jan 2025') + pd.Timedelta(days=2,hours=10,minutes=35)"
   ]
  },
  {
   "cell_type": "code",
   "execution_count": 7,
   "metadata": {},
   "outputs": [
    {
     "data": {
      "text/plain": [
       "DatetimeIndex(['2025-01-03 13:25:00', '2025-01-04 13:25:00',\n",
       "               '2025-01-05 13:25:00', '2025-01-06 13:25:00',\n",
       "               '2025-01-07 13:25:00', '2025-01-08 13:25:00',\n",
       "               '2025-01-09 13:25:00', '2025-01-10 13:25:00',\n",
       "               '2025-01-11 13:25:00', '2025-01-12 13:25:00',\n",
       "               '2025-01-13 13:25:00', '2025-01-14 13:25:00',\n",
       "               '2025-01-15 13:25:00', '2025-01-16 13:25:00',\n",
       "               '2025-01-17 13:25:00', '2025-01-18 13:25:00',\n",
       "               '2025-01-19 13:25:00', '2025-01-20 13:25:00',\n",
       "               '2025-01-21 13:25:00', '2025-01-22 13:25:00',\n",
       "               '2025-01-23 13:25:00', '2025-01-24 13:25:00',\n",
       "               '2025-01-25 13:25:00', '2025-01-26 13:25:00',\n",
       "               '2025-01-27 13:25:00', '2025-01-28 13:25:00'],\n",
       "              dtype='datetime64[ns]', freq='D')"
      ]
     },
     "execution_count": 7,
     "metadata": {},
     "output_type": "execute_result"
    }
   ],
   "source": [
    "pd.date_range(start='2025-1-6',end='2025-1-31',freq='D') - pd.Timedelta(days=2,hours=10,minutes=35)"
   ]
  },
  {
   "cell_type": "code",
   "execution_count": 8,
   "metadata": {},
   "outputs": [
    {
     "data": {
      "text/html": [
       "<div>\n",
       "<style scoped>\n",
       "    .dataframe tbody tr th:only-of-type {\n",
       "        vertical-align: middle;\n",
       "    }\n",
       "\n",
       "    .dataframe tbody tr th {\n",
       "        vertical-align: top;\n",
       "    }\n",
       "\n",
       "    .dataframe thead th {\n",
       "        text-align: right;\n",
       "    }\n",
       "</style>\n",
       "<table border=\"1\" class=\"dataframe\">\n",
       "  <thead>\n",
       "    <tr style=\"text-align: right;\">\n",
       "      <th></th>\n",
       "      <th>order_date</th>\n",
       "      <th>delivery_date</th>\n",
       "    </tr>\n",
       "  </thead>\n",
       "  <tbody>\n",
       "    <tr>\n",
       "      <th>0</th>\n",
       "      <td>5/24/98</td>\n",
       "      <td>2/5/99</td>\n",
       "    </tr>\n",
       "    <tr>\n",
       "      <th>1</th>\n",
       "      <td>4/22/92</td>\n",
       "      <td>3/6/98</td>\n",
       "    </tr>\n",
       "    <tr>\n",
       "      <th>2</th>\n",
       "      <td>2/10/91</td>\n",
       "      <td>8/26/92</td>\n",
       "    </tr>\n",
       "    <tr>\n",
       "      <th>3</th>\n",
       "      <td>7/21/92</td>\n",
       "      <td>11/20/97</td>\n",
       "    </tr>\n",
       "    <tr>\n",
       "      <th>4</th>\n",
       "      <td>9/2/93</td>\n",
       "      <td>6/10/98</td>\n",
       "    </tr>\n",
       "  </tbody>\n",
       "</table>\n",
       "</div>"
      ],
      "text/plain": [
       "  order_date delivery_date\n",
       "0    5/24/98        2/5/99\n",
       "1    4/22/92        3/6/98\n",
       "2    2/10/91       8/26/92\n",
       "3    7/21/92      11/20/97\n",
       "4     9/2/93       6/10/98"
      ]
     },
     "execution_count": 8,
     "metadata": {},
     "output_type": "execute_result"
    }
   ],
   "source": [
    "#real life example\n",
    "\n",
    "df = pd.read_csv('data/deliveries.csv')\n",
    "df.head()"
   ]
  },
  {
   "cell_type": "code",
   "execution_count": 9,
   "metadata": {},
   "outputs": [
    {
     "name": "stderr",
     "output_type": "stream",
     "text": [
      "/var/folders/2n/v2zy3n991d94k9g19pvh8k5m0000gn/T/ipykernel_65590/3472121163.py:1: UserWarning: Could not infer format, so each element will be parsed individually, falling back to `dateutil`. To ensure parsing is consistent and as-expected, please specify a format.\n",
      "  df['order_date'] = pd.to_datetime(df['order_date'])\n",
      "/var/folders/2n/v2zy3n991d94k9g19pvh8k5m0000gn/T/ipykernel_65590/3472121163.py:2: UserWarning: Could not infer format, so each element will be parsed individually, falling back to `dateutil`. To ensure parsing is consistent and as-expected, please specify a format.\n",
      "  df['delivery_date'] = pd.to_datetime(df['delivery_date'])\n"
     ]
    }
   ],
   "source": [
    "df['order_date'] = pd.to_datetime(df['order_date'])\n",
    "df['delivery_date'] = pd.to_datetime(df['delivery_date'])"
   ]
  },
  {
   "cell_type": "code",
   "execution_count": 10,
   "metadata": {},
   "outputs": [],
   "source": [
    "df['delivery_time_period'] = df['delivery_date'] - df['order_date']"
   ]
  },
  {
   "cell_type": "code",
   "execution_count": 11,
   "metadata": {},
   "outputs": [
    {
     "data": {
      "text/html": [
       "<div>\n",
       "<style scoped>\n",
       "    .dataframe tbody tr th:only-of-type {\n",
       "        vertical-align: middle;\n",
       "    }\n",
       "\n",
       "    .dataframe tbody tr th {\n",
       "        vertical-align: top;\n",
       "    }\n",
       "\n",
       "    .dataframe thead th {\n",
       "        text-align: right;\n",
       "    }\n",
       "</style>\n",
       "<table border=\"1\" class=\"dataframe\">\n",
       "  <thead>\n",
       "    <tr style=\"text-align: right;\">\n",
       "      <th></th>\n",
       "      <th>order_date</th>\n",
       "      <th>delivery_date</th>\n",
       "      <th>delivery_time_period</th>\n",
       "    </tr>\n",
       "  </thead>\n",
       "  <tbody>\n",
       "    <tr>\n",
       "      <th>0</th>\n",
       "      <td>1998-05-24</td>\n",
       "      <td>1999-02-05</td>\n",
       "      <td>257 days</td>\n",
       "    </tr>\n",
       "    <tr>\n",
       "      <th>1</th>\n",
       "      <td>1992-04-22</td>\n",
       "      <td>1998-03-06</td>\n",
       "      <td>2144 days</td>\n",
       "    </tr>\n",
       "    <tr>\n",
       "      <th>2</th>\n",
       "      <td>1991-02-10</td>\n",
       "      <td>1992-08-26</td>\n",
       "      <td>563 days</td>\n",
       "    </tr>\n",
       "    <tr>\n",
       "      <th>3</th>\n",
       "      <td>1992-07-21</td>\n",
       "      <td>1997-11-20</td>\n",
       "      <td>1948 days</td>\n",
       "    </tr>\n",
       "    <tr>\n",
       "      <th>4</th>\n",
       "      <td>1993-09-02</td>\n",
       "      <td>1998-06-10</td>\n",
       "      <td>1742 days</td>\n",
       "    </tr>\n",
       "  </tbody>\n",
       "</table>\n",
       "</div>"
      ],
      "text/plain": [
       "  order_date delivery_date delivery_time_period\n",
       "0 1998-05-24    1999-02-05             257 days\n",
       "1 1992-04-22    1998-03-06            2144 days\n",
       "2 1991-02-10    1992-08-26             563 days\n",
       "3 1992-07-21    1997-11-20            1948 days\n",
       "4 1993-09-02    1998-06-10            1742 days"
      ]
     },
     "execution_count": 11,
     "metadata": {},
     "output_type": "execute_result"
    }
   ],
   "source": [
    "df.head()"
   ]
  },
  {
   "cell_type": "code",
   "execution_count": 12,
   "metadata": {},
   "outputs": [
    {
     "data": {
      "text/plain": [
       "Timedelta('1217 days 22:53:53.532934128')"
      ]
     },
     "execution_count": 12,
     "metadata": {},
     "output_type": "execute_result"
    }
   ],
   "source": [
    "df['delivery_time_period'].mean()"
   ]
  },
  {
   "cell_type": "markdown",
   "metadata": {},
   "source": [
    "#### TimeSeries\n",
    "\n",
    "A time series is a data set that tracks a sample over time. In particular, a time series allows one to see what factors influence certain variables from period to period. Time series analysis can be useful to see how a given asset, security, or economic variable changes over time.\n",
    "\n",
    "Examples\n",
    "\n",
    "    Financial Data (Company stocks)\n",
    "    Natural Data (Rainfall measurement)\n",
    "    Event Data (Covid)\n",
    "    Medical Data (Heart rate monitoring)\n",
    "\n",
    "Types of Operations done on Time Series\n",
    "\n",
    "    Time Series Analysis\n",
    "    Time Series Forecasting\n"
   ]
  },
  {
   "cell_type": "code",
   "execution_count": 14,
   "metadata": {},
   "outputs": [
    {
     "data": {
      "text/html": [
       "<div>\n",
       "<style scoped>\n",
       "    .dataframe tbody tr th:only-of-type {\n",
       "        vertical-align: middle;\n",
       "    }\n",
       "\n",
       "    .dataframe tbody tr th {\n",
       "        vertical-align: top;\n",
       "    }\n",
       "\n",
       "    .dataframe thead th {\n",
       "        text-align: right;\n",
       "    }\n",
       "</style>\n",
       "<table border=\"1\" class=\"dataframe\">\n",
       "  <thead>\n",
       "    <tr style=\"text-align: right;\">\n",
       "      <th></th>\n",
       "      <th>Date</th>\n",
       "      <th>Open</th>\n",
       "      <th>High</th>\n",
       "      <th>Low</th>\n",
       "      <th>Close</th>\n",
       "      <th>Adj Close</th>\n",
       "      <th>Volume</th>\n",
       "    </tr>\n",
       "  </thead>\n",
       "  <tbody>\n",
       "    <tr>\n",
       "      <th>0</th>\n",
       "      <td>2004-08-19</td>\n",
       "      <td>49.813290</td>\n",
       "      <td>51.835709</td>\n",
       "      <td>47.800831</td>\n",
       "      <td>49.982655</td>\n",
       "      <td>49.982655</td>\n",
       "      <td>44871361</td>\n",
       "    </tr>\n",
       "    <tr>\n",
       "      <th>1</th>\n",
       "      <td>2004-08-20</td>\n",
       "      <td>50.316402</td>\n",
       "      <td>54.336334</td>\n",
       "      <td>50.062355</td>\n",
       "      <td>53.952770</td>\n",
       "      <td>53.952770</td>\n",
       "      <td>22942874</td>\n",
       "    </tr>\n",
       "    <tr>\n",
       "      <th>2</th>\n",
       "      <td>2004-08-23</td>\n",
       "      <td>55.168217</td>\n",
       "      <td>56.528118</td>\n",
       "      <td>54.321388</td>\n",
       "      <td>54.495735</td>\n",
       "      <td>54.495735</td>\n",
       "      <td>18342897</td>\n",
       "    </tr>\n",
       "    <tr>\n",
       "      <th>3</th>\n",
       "      <td>2004-08-24</td>\n",
       "      <td>55.412300</td>\n",
       "      <td>55.591629</td>\n",
       "      <td>51.591621</td>\n",
       "      <td>52.239197</td>\n",
       "      <td>52.239197</td>\n",
       "      <td>15319808</td>\n",
       "    </tr>\n",
       "    <tr>\n",
       "      <th>4</th>\n",
       "      <td>2004-08-25</td>\n",
       "      <td>52.284027</td>\n",
       "      <td>53.798351</td>\n",
       "      <td>51.746044</td>\n",
       "      <td>52.802086</td>\n",
       "      <td>52.802086</td>\n",
       "      <td>9232276</td>\n",
       "    </tr>\n",
       "  </tbody>\n",
       "</table>\n",
       "</div>"
      ],
      "text/plain": [
       "         Date       Open       High        Low      Close  Adj Close    Volume\n",
       "0  2004-08-19  49.813290  51.835709  47.800831  49.982655  49.982655  44871361\n",
       "1  2004-08-20  50.316402  54.336334  50.062355  53.952770  53.952770  22942874\n",
       "2  2004-08-23  55.168217  56.528118  54.321388  54.495735  54.495735  18342897\n",
       "3  2004-08-24  55.412300  55.591629  51.591621  52.239197  52.239197  15319808\n",
       "4  2004-08-25  52.284027  53.798351  51.746044  52.802086  52.802086   9232276"
      ]
     },
     "execution_count": 14,
     "metadata": {},
     "output_type": "execute_result"
    }
   ],
   "source": [
    "google = pd.read_csv('data/google.csv')\n",
    "google.head()"
   ]
  },
  {
   "cell_type": "code",
   "execution_count": 15,
   "metadata": {},
   "outputs": [
    {
     "data": {
      "text/html": [
       "<div>\n",
       "<style scoped>\n",
       "    .dataframe tbody tr th:only-of-type {\n",
       "        vertical-align: middle;\n",
       "    }\n",
       "\n",
       "    .dataframe tbody tr th {\n",
       "        vertical-align: top;\n",
       "    }\n",
       "\n",
       "    .dataframe thead th {\n",
       "        text-align: right;\n",
       "    }\n",
       "</style>\n",
       "<table border=\"1\" class=\"dataframe\">\n",
       "  <thead>\n",
       "    <tr style=\"text-align: right;\">\n",
       "      <th></th>\n",
       "      <th>Date</th>\n",
       "      <th>Open</th>\n",
       "      <th>High</th>\n",
       "      <th>Low</th>\n",
       "      <th>Close</th>\n",
       "      <th>Adj Close</th>\n",
       "      <th>Volume</th>\n",
       "    </tr>\n",
       "  </thead>\n",
       "  <tbody>\n",
       "    <tr>\n",
       "      <th>4466</th>\n",
       "      <td>2022-05-16</td>\n",
       "      <td>2307.679932</td>\n",
       "      <td>2332.149902</td>\n",
       "      <td>2286.699951</td>\n",
       "      <td>2295.850098</td>\n",
       "      <td>2295.850098</td>\n",
       "      <td>1164100</td>\n",
       "    </tr>\n",
       "    <tr>\n",
       "      <th>4467</th>\n",
       "      <td>2022-05-17</td>\n",
       "      <td>2344.550049</td>\n",
       "      <td>2344.550049</td>\n",
       "      <td>2306.750000</td>\n",
       "      <td>2334.030029</td>\n",
       "      <td>2334.030029</td>\n",
       "      <td>1078800</td>\n",
       "    </tr>\n",
       "    <tr>\n",
       "      <th>4468</th>\n",
       "      <td>2022-05-18</td>\n",
       "      <td>2304.750000</td>\n",
       "      <td>2313.913086</td>\n",
       "      <td>2242.840088</td>\n",
       "      <td>2248.020020</td>\n",
       "      <td>2248.020020</td>\n",
       "      <td>1399100</td>\n",
       "    </tr>\n",
       "    <tr>\n",
       "      <th>4469</th>\n",
       "      <td>2022-05-19</td>\n",
       "      <td>2236.820068</td>\n",
       "      <td>2271.750000</td>\n",
       "      <td>2209.360107</td>\n",
       "      <td>2214.909912</td>\n",
       "      <td>2214.909912</td>\n",
       "      <td>1459600</td>\n",
       "    </tr>\n",
       "    <tr>\n",
       "      <th>4470</th>\n",
       "      <td>2022-05-20</td>\n",
       "      <td>2241.709961</td>\n",
       "      <td>2251.000000</td>\n",
       "      <td>2127.459961</td>\n",
       "      <td>2186.260010</td>\n",
       "      <td>2186.260010</td>\n",
       "      <td>1878100</td>\n",
       "    </tr>\n",
       "  </tbody>\n",
       "</table>\n",
       "</div>"
      ],
      "text/plain": [
       "            Date         Open         High          Low        Close  \\\n",
       "4466  2022-05-16  2307.679932  2332.149902  2286.699951  2295.850098   \n",
       "4467  2022-05-17  2344.550049  2344.550049  2306.750000  2334.030029   \n",
       "4468  2022-05-18  2304.750000  2313.913086  2242.840088  2248.020020   \n",
       "4469  2022-05-19  2236.820068  2271.750000  2209.360107  2214.909912   \n",
       "4470  2022-05-20  2241.709961  2251.000000  2127.459961  2186.260010   \n",
       "\n",
       "        Adj Close   Volume  \n",
       "4466  2295.850098  1164100  \n",
       "4467  2334.030029  1078800  \n",
       "4468  2248.020020  1399100  \n",
       "4469  2214.909912  1459600  \n",
       "4470  2186.260010  1878100  "
      ]
     },
     "execution_count": 15,
     "metadata": {},
     "output_type": "execute_result"
    }
   ],
   "source": [
    "google.tail()"
   ]
  },
  {
   "cell_type": "code",
   "execution_count": null,
   "metadata": {},
   "outputs": [],
   "source": [
    "subs = pd.read_csv('subscribers.csv')\n",
    "views = pd.read_csv('views.csv')\n",
    "wt = pd.read_csv('watch-time.csv')\n",
    "comments = pd.read_csv('comments.csv')"
   ]
  },
  {
   "cell_type": "code",
   "execution_count": null,
   "metadata": {},
   "outputs": [],
   "source": []
  }
 ],
 "metadata": {
  "kernelspec": {
   "display_name": ".venv",
   "language": "python",
   "name": "python3"
  },
  "language_info": {
   "codemirror_mode": {
    "name": "ipython",
    "version": 3
   },
   "file_extension": ".py",
   "mimetype": "text/x-python",
   "name": "python",
   "nbconvert_exporter": "python",
   "pygments_lexer": "ipython3",
   "version": "3.11.6"
  }
 },
 "nbformat": 4,
 "nbformat_minor": 2
}
