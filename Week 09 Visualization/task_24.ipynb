{
  "cells": [
    {
      "cell_type": "code",
      "execution_count": 1,
      "metadata": {
        "id": "rn7iBjG55x3s"
      },
      "outputs": [],
      "source": [
        "import numpy as np\n",
        "import pandas as pd\n",
        "import matplotlib.pyplot as plt\n",
        "\n",
        "from sklearn.preprocessing import LabelEncoder\n",
        "\n",
        "plt.style.use('default')"
      ]
    },
    {
      "cell_type": "markdown",
      "metadata": {
        "id": "ssYUbOcG59i6"
      },
      "source": [
        "## **Problem 1 to 2:**\n",
        "\n",
        "**Dataset link:** https://rb.gy/gsmddu\n",
        "\n",
        "**Add a label to every axis and add a proper title for the charts (For every subplot, it is applicable). Also add proper labels if there are multiple representations.** Then, you can customize it as your wish."
      ]
    },
    {
      "cell_type": "markdown",
      "metadata": {
        "id": "gFuSF6UV6DTx"
      },
      "source": [
        "### **Problem-1:** Make a subplots which have 2 plots.\n",
        "\n",
        "- For the first chart, draw a scatter plot \"*Monitored Cap.(MW)*\" vs \"*Total Cap. Under Maintenance (MW)*\" of top 5 most frequent power stations. Then draw the lines which indicate the average values of these two columns. Change the colors according to the names of the Power Stations.\n",
        "- For the second chart, draw a scatter plot \"*Monitored Cap. (MW)*\" vs \"*Actual(MU)*\" of the top 5 most frequent power stations. Also draw the lines which indicates the average values of these two columns. Change the colors according to the names of the Power Stations.\n"
      ]
    },
    {
      "cell_type": "code",
      "execution_count": 2,
      "metadata": {
        "id": "HfaLSzT253_2"
      },
      "outputs": [],
      "source": [
        "df = pd.read_csv('data/PowerGeneration.csv')"
      ]
    },
    {
      "cell_type": "code",
      "execution_count": 3,
      "metadata": {},
      "outputs": [
        {
          "data": {
            "text/html": [
              "<div>\n",
              "<style scoped>\n",
              "    .dataframe tbody tr th:only-of-type {\n",
              "        vertical-align: middle;\n",
              "    }\n",
              "\n",
              "    .dataframe tbody tr th {\n",
              "        vertical-align: top;\n",
              "    }\n",
              "\n",
              "    .dataframe thead th {\n",
              "        text-align: right;\n",
              "    }\n",
              "</style>\n",
              "<table border=\"1\" class=\"dataframe\">\n",
              "  <thead>\n",
              "    <tr style=\"text-align: right;\">\n",
              "      <th></th>\n",
              "      <th>Dates</th>\n",
              "      <th>Power Station</th>\n",
              "      <th>Monitored Cap.(MW)</th>\n",
              "      <th>Total Cap. Under Maintenace (MW)</th>\n",
              "      <th>Planned Maintanence (MW)</th>\n",
              "      <th>Forced Maintanence(MW)</th>\n",
              "      <th>Other Reasons (MW)</th>\n",
              "      <th>Programme or Expected(MU)</th>\n",
              "      <th>Actual(MU)</th>\n",
              "      <th>Excess(+) / Shortfall (-)</th>\n",
              "      <th>Deviation</th>\n",
              "    </tr>\n",
              "  </thead>\n",
              "  <tbody>\n",
              "    <tr>\n",
              "      <th>0</th>\n",
              "      <td>2017-09-01</td>\n",
              "      <td>Delhi</td>\n",
              "      <td>2235.4</td>\n",
              "      <td>135.00</td>\n",
              "      <td>0.00</td>\n",
              "      <td>135.0</td>\n",
              "      <td>0</td>\n",
              "      <td>13</td>\n",
              "      <td>18</td>\n",
              "      <td>5.00</td>\n",
              "      <td>0.0</td>\n",
              "    </tr>\n",
              "    <tr>\n",
              "      <th>1</th>\n",
              "      <td>2017-09-01</td>\n",
              "      <td>Haryana</td>\n",
              "      <td>2720.0</td>\n",
              "      <td>2470.00</td>\n",
              "      <td>0.00</td>\n",
              "      <td>2470.0</td>\n",
              "      <td>0</td>\n",
              "      <td>28</td>\n",
              "      <td>7</td>\n",
              "      <td>-21.80</td>\n",
              "      <td>0.0</td>\n",
              "    </tr>\n",
              "    <tr>\n",
              "      <th>2</th>\n",
              "      <td>2017-09-01</td>\n",
              "      <td>Himachal Pradesh</td>\n",
              "      <td>3378.0</td>\n",
              "      <td>379.00</td>\n",
              "      <td>0.00</td>\n",
              "      <td>231.0</td>\n",
              "      <td>0</td>\n",
              "      <td>40</td>\n",
              "      <td>46</td>\n",
              "      <td>5.63</td>\n",
              "      <td>0.0</td>\n",
              "    </tr>\n",
              "    <tr>\n",
              "      <th>3</th>\n",
              "      <td>2017-09-01</td>\n",
              "      <td>Jammu and Kashmir</td>\n",
              "      <td>1285.0</td>\n",
              "      <td>150.00</td>\n",
              "      <td>0.00</td>\n",
              "      <td>0.0</td>\n",
              "      <td>0</td>\n",
              "      <td>14</td>\n",
              "      <td>23</td>\n",
              "      <td>9.43</td>\n",
              "      <td>0.0</td>\n",
              "    </tr>\n",
              "    <tr>\n",
              "      <th>4</th>\n",
              "      <td>2017-09-01</td>\n",
              "      <td>Punjab</td>\n",
              "      <td>3826.3</td>\n",
              "      <td>2697.65</td>\n",
              "      <td>77.65</td>\n",
              "      <td>2620.0</td>\n",
              "      <td>0</td>\n",
              "      <td>39</td>\n",
              "      <td>17</td>\n",
              "      <td>-21.69</td>\n",
              "      <td>0.0</td>\n",
              "    </tr>\n",
              "  </tbody>\n",
              "</table>\n",
              "</div>"
            ],
            "text/plain": [
              "        Dates      Power Station  Monitored Cap.(MW)  \\\n",
              "0  2017-09-01              Delhi              2235.4   \n",
              "1  2017-09-01            Haryana              2720.0   \n",
              "2  2017-09-01   Himachal Pradesh              3378.0   \n",
              "3  2017-09-01  Jammu and Kashmir              1285.0   \n",
              "4  2017-09-01             Punjab              3826.3   \n",
              "\n",
              "   Total Cap. Under Maintenace (MW)  Planned Maintanence (MW)  \\\n",
              "0                            135.00                      0.00   \n",
              "1                           2470.00                      0.00   \n",
              "2                            379.00                      0.00   \n",
              "3                            150.00                      0.00   \n",
              "4                           2697.65                     77.65   \n",
              "\n",
              "   Forced Maintanence(MW)  Other Reasons (MW)  Programme or Expected(MU)  \\\n",
              "0                   135.0                   0                         13   \n",
              "1                  2470.0                   0                         28   \n",
              "2                   231.0                   0                         40   \n",
              "3                     0.0                   0                         14   \n",
              "4                  2620.0                   0                         39   \n",
              "\n",
              "   Actual(MU)  Excess(+) / Shortfall (-)  Deviation  \n",
              "0          18                       5.00        0.0  \n",
              "1           7                     -21.80        0.0  \n",
              "2          46                       5.63        0.0  \n",
              "3          23                       9.43        0.0  \n",
              "4          17                     -21.69        0.0  "
            ]
          },
          "execution_count": 3,
          "metadata": {},
          "output_type": "execute_result"
        }
      ],
      "source": [
        "df.head()"
      ]
    },
    {
      "cell_type": "code",
      "execution_count": 4,
      "metadata": {},
      "outputs": [
        {
          "data": {
            "text/plain": [
              "(345273, 11)"
            ]
          },
          "execution_count": 4,
          "metadata": {},
          "output_type": "execute_result"
        }
      ],
      "source": [
        "df.shape"
      ]
    },
    {
      "cell_type": "code",
      "execution_count": 6,
      "metadata": {},
      "outputs": [
        {
          "data": {
            "text/plain": [
              "pandas.core.series.Series"
            ]
          },
          "execution_count": 6,
          "metadata": {},
          "output_type": "execute_result"
        }
      ],
      "source": [
        "df['Power Station'].value_counts()"
      ]
    },
    {
      "cell_type": "markdown",
      "metadata": {
        "id": "WdFEAOAH69UD"
      },
      "source": [
        "### **Problem-2:** Draw a 3D Scatter plot between \"*Monitored Cap.(MW)*\", \"*Total Cap. Under Maintenace (MW)*\" and \"*Forced Maintanence(MW)*\""
      ]
    },
    {
      "cell_type": "code",
      "execution_count": null,
      "metadata": {
        "id": "RCHXYRpm7AXM"
      },
      "outputs": [],
      "source": [
        "# code here"
      ]
    },
    {
      "cell_type": "markdown",
      "metadata": {
        "id": "b8WkvGhb7C01"
      },
      "source": [
        "### **Problem-3:** Make a 3D *Surface* plot of this below mathematical equation.\n",
        "\n",
        "$$z = |x| - |y|$$"
      ]
    },
    {
      "cell_type": "code",
      "execution_count": null,
      "metadata": {
        "id": "0nWEnUJv7GB9"
      },
      "outputs": [],
      "source": [
        "# code here"
      ]
    },
    {
      "cell_type": "markdown",
      "metadata": {
        "id": "LeanWP7Q7IFB"
      },
      "source": [
        "### **Problem-4:** Draw the 3D *Contour plot* of this below equation:\n",
        "\n",
        "$$z = |x| - |y|$$"
      ]
    },
    {
      "cell_type": "code",
      "execution_count": null,
      "metadata": {
        "id": "OTPy3rbM7K59"
      },
      "outputs": [],
      "source": [
        "# code here"
      ]
    },
    {
      "cell_type": "markdown",
      "metadata": {
        "id": "79ODDz7l7Mfm"
      },
      "source": [
        "### **Problem-5:** Draw a second type of Countour plot of the below equation:\n",
        "\n",
        "$$z = |x| - |y|$$"
      ]
    },
    {
      "cell_type": "code",
      "execution_count": null,
      "metadata": {
        "id": "AKw8q_lK7PYN"
      },
      "outputs": [],
      "source": [
        "# code here"
      ]
    },
    {
      "cell_type": "markdown",
      "metadata": {
        "id": "MPwbt2OX7RMv"
      },
      "source": [
        "## `Problem 6-7`\n",
        "\n",
        "Data Set Link - https://docs.google.com/spreadsheets/d/17tUL2yC7MGvo7txuuhLtAI-b6_C4jc0t7FLFxqRm-uI/edit?usp=share_link\n",
        "\n",
        "\n",
        "**Description of Dataset:**\n",
        "\n",
        "* Date: It gives the date of which stocks details are given.\n",
        "* Symbol: Name of stock\n",
        "* Open: It gives the opening price of stock on that date.\n",
        "* High: It gives the highest price to which the stock ascened on that day.\n",
        "* Low: It gives the highest price to which the stock plummeted on that day.\n",
        "* Close: It gives the closing price of stock on that date.\n",
        "* Volume: It gives the amount of stock traded on that date.\n",
        "* VWAP: The volume-weighted average price (VWAP) is a statistic used by traders to determine what the average price is based on both price and volume.\n",
        "* Turnover:"
      ]
    },
    {
      "cell_type": "markdown",
      "metadata": {
        "id": "QbHNIoHG7Z5d"
      },
      "source": [
        "### `Problem-6` Use Pandas plot functions\n",
        "\n",
        "* Line plot of closing value of top 5 Stocks in Year 2020.\n",
        "* Take top 5 stocks based on total turnover in Year 2020"
      ]
    },
    {
      "cell_type": "code",
      "execution_count": null,
      "metadata": {
        "id": "ZqtC3KEv7W4F"
      },
      "outputs": [],
      "source": [
        "# code here"
      ]
    },
    {
      "cell_type": "markdown",
      "metadata": {
        "id": "LhOl-yAa7ejw"
      },
      "source": [
        "### `Problem-7` Scatter plot Close price vs Volume for TOP-5 Stocks in year 2021\n",
        "* Color on Symbol Column"
      ]
    },
    {
      "cell_type": "code",
      "execution_count": null,
      "metadata": {
        "id": "JRGP0m0q7fLt"
      },
      "outputs": [],
      "source": [
        "# code here"
      ]
    },
    {
      "cell_type": "markdown",
      "metadata": {
        "id": "ZBt0PHRq7g_-"
      },
      "source": [
        "### `Problem-8` Create a 3-D Scatter Plot using `time,x,y` on below synthetic data. and give color gradiant on `z`\n",
        "```\n",
        "# Create a 3D dataset\n",
        "time = np.linspace(0, 10, 100)\n",
        "x = np.sin(time)\n",
        "y = np.cos(time)\n",
        "z = time\n",
        "\n",
        "# Create a DataFrame from the dataset\n",
        "data = pd.DataFrame({'time': time, 'x': x, 'y': y, 'z': z})\n",
        "```"
      ]
    },
    {
      "cell_type": "code",
      "execution_count": null,
      "metadata": {
        "id": "sVTi-RNl7kLs"
      },
      "outputs": [],
      "source": [
        "# code here"
      ]
    },
    {
      "cell_type": "markdown",
      "metadata": {
        "id": "x1se2uXc7mZV"
      },
      "source": [
        "### `Problem 9:` Create a surface plot and the 2 types of the contour plots of the below equation.\n",
        "\n",
        "$$z = sin(\\sqrt{x^2 + y^2})$$\n"
      ]
    },
    {
      "cell_type": "code",
      "execution_count": null,
      "metadata": {
        "id": "G-oDKAZO7p5D"
      },
      "outputs": [],
      "source": [
        "# code here"
      ]
    },
    {
      "cell_type": "markdown",
      "metadata": {
        "id": "FGcw71nR7rgH"
      },
      "source": [
        "### `Problem 10:` Create a surface plot and the 2 types of the contour plots of the below equation.\n",
        "\n",
        "$$z = tan(\\log_2({x^2 + y^2})$$"
      ]
    },
    {
      "cell_type": "code",
      "execution_count": null,
      "metadata": {
        "id": "4lzu6AHn7vyw"
      },
      "outputs": [],
      "source": [
        "# code here"
      ]
    }
  ],
  "metadata": {
    "colab": {
      "provenance": []
    },
    "kernelspec": {
      "display_name": "Python 3",
      "name": "python3"
    },
    "language_info": {
      "codemirror_mode": {
        "name": "ipython",
        "version": 3
      },
      "file_extension": ".py",
      "mimetype": "text/x-python",
      "name": "python",
      "nbconvert_exporter": "python",
      "pygments_lexer": "ipython3",
      "version": "3.11.6"
    }
  },
  "nbformat": 4,
  "nbformat_minor": 0
}
