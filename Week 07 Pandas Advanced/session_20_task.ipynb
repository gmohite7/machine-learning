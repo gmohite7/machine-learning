{
  "cells": [
    {
      "cell_type": "code",
      "execution_count": 1,
      "metadata": {
        "id": "tWO36cIgWlev"
      },
      "outputs": [],
      "source": [
        "import pandas as pd\n",
        "import numpy as np"
      ]
    },
    {
      "cell_type": "markdown",
      "metadata": {
        "id": "zMEk5SAYWqbG"
      },
      "source": [
        "DATA DESCRIPTION\n",
        "```\n",
        "file name -> Columns\n",
        "quater-i.csv -> ['order_id', 'quantity', 'item_id', 'choice_description_id' 'item_price']\n",
        "items.csv -> ['item_id', 'item_name']\n",
        "```\n",
        "Dataset Link - https://drive.google.com/drive/folders/1Z0kaFybvgFeczeUj4dldUnhTdloLqLsL?usp=share_link"
      ]
    },
    {
      "cell_type": "code",
      "execution_count": 2,
      "metadata": {
        "id": "5qxjEvSwfDkI"
      },
      "outputs": [],
      "source": [
        "# import like this\n",
        "items_path = \"data/items.csv\"\n",
        "q1_path = \"data/quarter-1.csv\"\n",
        "q2_path = \"data/quarter-2.csv\"\n",
        "q3_path = \"data/quarter-3.csv\"\n",
        "\n",
        "\n",
        "q1= pd.read_csv(q1_path)\n",
        "q2 = pd.read_csv(q2_path)\n",
        "q3 = pd.read_csv(q3_path)\n",
        "\n",
        "items = pd.read_csv(items_path)"
      ]
    },
    {
      "cell_type": "markdown",
      "metadata": {
        "id": "zEhub0BcW1Ma"
      },
      "source": [
        "###`Q:1-5`\n",
        "1. You are given three quater files, your job is to append these three files and make a single dataframe.\n",
        "2. Have a index as Q-1 Q-2 Q-3 for respective quater files in the dataframe\n",
        "3. Your are given a file items.csv which has item_id and item_name. Find out most sold items in each quarter.\n",
        "4. Find out items which has made most revenue in each quarter.\n",
        "5. Find out avg order price of each quarter.\n",
        "\n",
        "***Note: item_price is given as str with $ sign, in earlier task you have converted this to rupees, here too first convert item_price field in rupees.***"
      ]
    },
    {
      "cell_type": "code",
      "execution_count": 3,
      "metadata": {
        "id": "nwICqy-RWyEf"
      },
      "outputs": [
        {
          "data": {
            "text/html": [
              "<div>\n",
              "<style scoped>\n",
              "    .dataframe tbody tr th:only-of-type {\n",
              "        vertical-align: middle;\n",
              "    }\n",
              "\n",
              "    .dataframe tbody tr th {\n",
              "        vertical-align: top;\n",
              "    }\n",
              "\n",
              "    .dataframe thead th {\n",
              "        text-align: right;\n",
              "    }\n",
              "</style>\n",
              "<table border=\"1\" class=\"dataframe\">\n",
              "  <thead>\n",
              "    <tr style=\"text-align: right;\">\n",
              "      <th></th>\n",
              "      <th>order_id</th>\n",
              "      <th>quantity</th>\n",
              "      <th>item_id</th>\n",
              "      <th>choice_description_id</th>\n",
              "      <th>item_price</th>\n",
              "    </tr>\n",
              "  </thead>\n",
              "  <tbody>\n",
              "    <tr>\n",
              "      <th>0</th>\n",
              "      <td>1</td>\n",
              "      <td>1</td>\n",
              "      <td>1</td>\n",
              "      <td>1</td>\n",
              "      <td>$3.39</td>\n",
              "    </tr>\n",
              "    <tr>\n",
              "      <th>1</th>\n",
              "      <td>1</td>\n",
              "      <td>1</td>\n",
              "      <td>2</td>\n",
              "      <td>2</td>\n",
              "      <td>$3.39</td>\n",
              "    </tr>\n",
              "    <tr>\n",
              "      <th>2</th>\n",
              "      <td>2</td>\n",
              "      <td>2</td>\n",
              "      <td>4</td>\n",
              "      <td>3</td>\n",
              "      <td>$16.98</td>\n",
              "    </tr>\n",
              "    <tr>\n",
              "      <th>3</th>\n",
              "      <td>4</td>\n",
              "      <td>1</td>\n",
              "      <td>7</td>\n",
              "      <td>6</td>\n",
              "      <td>$9.25</td>\n",
              "    </tr>\n",
              "    <tr>\n",
              "      <th>4</th>\n",
              "      <td>6</td>\n",
              "      <td>1</td>\n",
              "      <td>9</td>\n",
              "      <td>8</td>\n",
              "      <td>$8.75</td>\n",
              "    </tr>\n",
              "    <tr>\n",
              "      <th>...</th>\n",
              "      <td>...</td>\n",
              "      <td>...</td>\n",
              "      <td>...</td>\n",
              "      <td>...</td>\n",
              "      <td>...</td>\n",
              "    </tr>\n",
              "    <tr>\n",
              "      <th>4617</th>\n",
              "      <td>1829</td>\n",
              "      <td>1</td>\n",
              "      <td>23</td>\n",
              "      <td>92</td>\n",
              "      <td>$11.25</td>\n",
              "    </tr>\n",
              "    <tr>\n",
              "      <th>4618</th>\n",
              "      <td>1830</td>\n",
              "      <td>1</td>\n",
              "      <td>23</td>\n",
              "      <td>1043</td>\n",
              "      <td>$11.25</td>\n",
              "    </tr>\n",
              "    <tr>\n",
              "      <th>4619</th>\n",
              "      <td>1832</td>\n",
              "      <td>1</td>\n",
              "      <td>10</td>\n",
              "      <td>116</td>\n",
              "      <td>$8.75</td>\n",
              "    </tr>\n",
              "    <tr>\n",
              "      <th>4620</th>\n",
              "      <td>1832</td>\n",
              "      <td>1</td>\n",
              "      <td>8</td>\n",
              "      <td>0</td>\n",
              "      <td>$4.45</td>\n",
              "    </tr>\n",
              "    <tr>\n",
              "      <th>4621</th>\n",
              "      <td>1834</td>\n",
              "      <td>1</td>\n",
              "      <td>20</td>\n",
              "      <td>515</td>\n",
              "      <td>$11.25</td>\n",
              "    </tr>\n",
              "  </tbody>\n",
              "</table>\n",
              "<p>4622 rows × 5 columns</p>\n",
              "</div>"
            ],
            "text/plain": [
              "     order_id quantity item_id choice_description_id item_price\n",
              "0           1        1       1                     1     $3.39 \n",
              "1           1        1       2                     2     $3.39 \n",
              "2           2        2       4                     3    $16.98 \n",
              "3           4        1       7                     6     $9.25 \n",
              "4           6        1       9                     8     $8.75 \n",
              "...       ...      ...     ...                   ...        ...\n",
              "4617     1829        1      23                    92    $11.25 \n",
              "4618     1830        1      23                  1043    $11.25 \n",
              "4619     1832        1      10                   116     $8.75 \n",
              "4620     1832        1       8                     0     $4.45 \n",
              "4621     1834        1      20                   515    $11.25 \n",
              "\n",
              "[4622 rows x 5 columns]"
            ]
          },
          "execution_count": 3,
          "metadata": {},
          "output_type": "execute_result"
        }
      ],
      "source": [
        "# 1. You are given three quater files, your job is to append these three files and make a single dataframe.\n",
        "q = pd.concat([q1,q2,q3],ignore_index=True)\n",
        "q"
      ]
    },
    {
      "cell_type": "code",
      "execution_count": 16,
      "metadata": {},
      "outputs": [
        {
          "data": {
            "text/html": [
              "<div>\n",
              "<style scoped>\n",
              "    .dataframe tbody tr th:only-of-type {\n",
              "        vertical-align: middle;\n",
              "    }\n",
              "\n",
              "    .dataframe tbody tr th {\n",
              "        vertical-align: top;\n",
              "    }\n",
              "\n",
              "    .dataframe thead th {\n",
              "        text-align: right;\n",
              "    }\n",
              "</style>\n",
              "<table border=\"1\" class=\"dataframe\">\n",
              "  <thead>\n",
              "    <tr style=\"text-align: right;\">\n",
              "      <th></th>\n",
              "      <th>level_0</th>\n",
              "      <th>level_1</th>\n",
              "      <th>order_id</th>\n",
              "      <th>quantity</th>\n",
              "      <th>item_id</th>\n",
              "      <th>choice_description_id</th>\n",
              "      <th>item_price</th>\n",
              "    </tr>\n",
              "  </thead>\n",
              "  <tbody>\n",
              "    <tr>\n",
              "      <th>0</th>\n",
              "      <td>Q-1</td>\n",
              "      <td>0</td>\n",
              "      <td>1</td>\n",
              "      <td>1</td>\n",
              "      <td>1</td>\n",
              "      <td>1</td>\n",
              "      <td>$3.39</td>\n",
              "    </tr>\n",
              "    <tr>\n",
              "      <th>1</th>\n",
              "      <td>Q-1</td>\n",
              "      <td>1</td>\n",
              "      <td>1</td>\n",
              "      <td>1</td>\n",
              "      <td>2</td>\n",
              "      <td>2</td>\n",
              "      <td>$3.39</td>\n",
              "    </tr>\n",
              "    <tr>\n",
              "      <th>2</th>\n",
              "      <td>Q-1</td>\n",
              "      <td>2</td>\n",
              "      <td>2</td>\n",
              "      <td>2</td>\n",
              "      <td>4</td>\n",
              "      <td>3</td>\n",
              "      <td>$16.98</td>\n",
              "    </tr>\n",
              "    <tr>\n",
              "      <th>3</th>\n",
              "      <td>Q-1</td>\n",
              "      <td>3</td>\n",
              "      <td>4</td>\n",
              "      <td>1</td>\n",
              "      <td>7</td>\n",
              "      <td>6</td>\n",
              "      <td>$9.25</td>\n",
              "    </tr>\n",
              "    <tr>\n",
              "      <th>4</th>\n",
              "      <td>Q-1</td>\n",
              "      <td>4</td>\n",
              "      <td>6</td>\n",
              "      <td>1</td>\n",
              "      <td>9</td>\n",
              "      <td>8</td>\n",
              "      <td>$8.75</td>\n",
              "    </tr>\n",
              "    <tr>\n",
              "      <th>...</th>\n",
              "      <td>...</td>\n",
              "      <td>...</td>\n",
              "      <td>...</td>\n",
              "      <td>...</td>\n",
              "      <td>...</td>\n",
              "      <td>...</td>\n",
              "      <td>...</td>\n",
              "    </tr>\n",
              "    <tr>\n",
              "      <th>4617</th>\n",
              "      <td>Q-2</td>\n",
              "      <td>2342</td>\n",
              "      <td>1829</td>\n",
              "      <td>1</td>\n",
              "      <td>23</td>\n",
              "      <td>92</td>\n",
              "      <td>$11.25</td>\n",
              "    </tr>\n",
              "    <tr>\n",
              "      <th>4618</th>\n",
              "      <td>Q-2</td>\n",
              "      <td>2343</td>\n",
              "      <td>1830</td>\n",
              "      <td>1</td>\n",
              "      <td>23</td>\n",
              "      <td>1043</td>\n",
              "      <td>$11.25</td>\n",
              "    </tr>\n",
              "    <tr>\n",
              "      <th>4619</th>\n",
              "      <td>Q-2</td>\n",
              "      <td>2344</td>\n",
              "      <td>1832</td>\n",
              "      <td>1</td>\n",
              "      <td>10</td>\n",
              "      <td>116</td>\n",
              "      <td>$8.75</td>\n",
              "    </tr>\n",
              "    <tr>\n",
              "      <th>4620</th>\n",
              "      <td>Q-2</td>\n",
              "      <td>2345</td>\n",
              "      <td>1832</td>\n",
              "      <td>1</td>\n",
              "      <td>8</td>\n",
              "      <td>0</td>\n",
              "      <td>$4.45</td>\n",
              "    </tr>\n",
              "    <tr>\n",
              "      <th>4621</th>\n",
              "      <td>Q-2</td>\n",
              "      <td>2346</td>\n",
              "      <td>1834</td>\n",
              "      <td>1</td>\n",
              "      <td>20</td>\n",
              "      <td>515</td>\n",
              "      <td>$11.25</td>\n",
              "    </tr>\n",
              "  </tbody>\n",
              "</table>\n",
              "<p>4622 rows × 7 columns</p>\n",
              "</div>"
            ],
            "text/plain": [
              "     level_0  level_1 order_id quantity item_id choice_description_id  \\\n",
              "0        Q-1        0        1        1       1                     1   \n",
              "1        Q-1        1        1        1       2                     2   \n",
              "2        Q-1        2        2        2       4                     3   \n",
              "3        Q-1        3        4        1       7                     6   \n",
              "4        Q-1        4        6        1       9                     8   \n",
              "...      ...      ...      ...      ...     ...                   ...   \n",
              "4617     Q-2     2342     1829        1      23                    92   \n",
              "4618     Q-2     2343     1830        1      23                  1043   \n",
              "4619     Q-2     2344     1832        1      10                   116   \n",
              "4620     Q-2     2345     1832        1       8                     0   \n",
              "4621     Q-2     2346     1834        1      20                   515   \n",
              "\n",
              "     item_price  \n",
              "0        $3.39   \n",
              "1        $3.39   \n",
              "2       $16.98   \n",
              "3        $9.25   \n",
              "4        $8.75   \n",
              "...         ...  \n",
              "4617    $11.25   \n",
              "4618    $11.25   \n",
              "4619     $8.75   \n",
              "4620     $4.45   \n",
              "4621    $11.25   \n",
              "\n",
              "[4622 rows x 7 columns]"
            ]
          },
          "execution_count": 16,
          "metadata": {},
          "output_type": "execute_result"
        }
      ],
      "source": [
        "# 2. Have a index as Q-1 Q-2 Q-3 for respective quater files in the dataframe\n",
        "multi = pd.concat([q1,q2,q3],keys=['Q-1','Q-2','Q-3']).reset_index()\n",
        "multi"
      ]
    },
    {
      "cell_type": "code",
      "execution_count": 26,
      "metadata": {},
      "outputs": [
        {
          "data": {
            "text/html": [
              "<div>\n",
              "<style scoped>\n",
              "    .dataframe tbody tr th:only-of-type {\n",
              "        vertical-align: middle;\n",
              "    }\n",
              "\n",
              "    .dataframe tbody tr th {\n",
              "        vertical-align: top;\n",
              "    }\n",
              "\n",
              "    .dataframe thead th {\n",
              "        text-align: right;\n",
              "    }\n",
              "</style>\n",
              "<table border=\"1\" class=\"dataframe\">\n",
              "  <thead>\n",
              "    <tr style=\"text-align: right;\">\n",
              "      <th></th>\n",
              "      <th>quarter</th>\n",
              "      <th>item_name</th>\n",
              "      <th>quantity</th>\n",
              "    </tr>\n",
              "  </thead>\n",
              "  <tbody>\n",
              "    <tr>\n",
              "      <th>65</th>\n",
              "      <td>Q-2</td>\n",
              "      <td>Chicken Bowl</td>\n",
              "      <td>394</td>\n",
              "    </tr>\n",
              "    <tr>\n",
              "      <th>17</th>\n",
              "      <td>Q-1</td>\n",
              "      <td>Chicken Bowl</td>\n",
              "      <td>367</td>\n",
              "    </tr>\n",
              "  </tbody>\n",
              "</table>\n",
              "</div>"
            ],
            "text/plain": [
              "   quarter     item_name quantity\n",
              "65     Q-2  Chicken Bowl      394\n",
              "17     Q-1  Chicken Bowl      367"
            ]
          },
          "execution_count": 26,
          "metadata": {},
          "output_type": "execute_result"
        }
      ],
      "source": [
        "#3 Your are given a file items.csv which has item_id and item_name. Find out most sold items in each quarter.\n",
        "new_df = multi.merge(items, on=\"item_id\")\n",
        "new_df.rename(columns={\"level_0\": \"quarter\"}, inplace=True)\n",
        "new_df.groupby([\"quarter\", \"item_name\"], as_index = False)[\"quantity\"].sum().sort_values(\"quantity\", ascending = False).drop_duplicates(subset=\"quarter\", keep=\"first\")"
      ]
    },
    {
      "cell_type": "code",
      "execution_count": 27,
      "metadata": {},
      "outputs": [
        {
          "data": {
            "text/html": [
              "<div>\n",
              "<style scoped>\n",
              "    .dataframe tbody tr th:only-of-type {\n",
              "        vertical-align: middle;\n",
              "    }\n",
              "\n",
              "    .dataframe tbody tr th {\n",
              "        vertical-align: top;\n",
              "    }\n",
              "\n",
              "    .dataframe thead th {\n",
              "        text-align: right;\n",
              "    }\n",
              "</style>\n",
              "<table border=\"1\" class=\"dataframe\">\n",
              "  <thead>\n",
              "    <tr style=\"text-align: right;\">\n",
              "      <th></th>\n",
              "      <th>quarter</th>\n",
              "      <th>item_name</th>\n",
              "      <th>total_item_price</th>\n",
              "    </tr>\n",
              "  </thead>\n",
              "  <tbody>\n",
              "    <tr>\n",
              "      <th>65</th>\n",
              "      <td>Q-2</td>\n",
              "      <td>Chicken Bowl</td>\n",
              "      <td>4192.25</td>\n",
              "    </tr>\n",
              "    <tr>\n",
              "      <th>17</th>\n",
              "      <td>Q-1</td>\n",
              "      <td>Chicken Bowl</td>\n",
              "      <td>3852.38</td>\n",
              "    </tr>\n",
              "  </tbody>\n",
              "</table>\n",
              "</div>"
            ],
            "text/plain": [
              "   quarter     item_name total_item_price\n",
              "65     Q-2  Chicken Bowl          4192.25\n",
              "17     Q-1  Chicken Bowl          3852.38"
            ]
          },
          "execution_count": 27,
          "metadata": {},
          "output_type": "execute_result"
        }
      ],
      "source": [
        "#4 Find out items which has made most revenue in each quarter.\n",
        "new_df[\"item_price\"] = new_df.item_price.apply(lambda x: float(x[1:]))\n",
        "new_df[\"total_item_price\"] = new_df[\"item_price\"] * new_df[\"quantity\"]\n",
        "new_df.groupby([\"quarter\", \"item_name\"], as_index = False)[\"total_item_price\"].sum().sort_values(\"total_item_price\", ascending=False).drop_duplicates(\"quarter\", keep=\"first\")"
      ]
    },
    {
      "cell_type": "code",
      "execution_count": null,
      "metadata": {},
      "outputs": [],
      "source": [
        "# 5. Find out avg order price of each quarter."
      ]
    },
    {
      "cell_type": "markdown",
      "metadata": {
        "id": "IRg-rNsDW-Ca"
      },
      "source": [
        "###`Q-6` From the IPL wala dataset you have to find the Purple cap holder each season.\n",
        "\n",
        "*Note: Bowler with most no wickets in a season gets purple cap. If more than one bowler have same no of wickets in the season, one with least ecomnomy among them is purple cap holder.*\n",
        "\n",
        "Bowler's Economy = runs-conceded per six balls"
      ]
    },
    {
      "cell_type": "code",
      "execution_count": null,
      "metadata": {
        "id": "yQeUfliHXKJm"
      },
      "outputs": [],
      "source": [
        "# code here"
      ]
    },
    {
      "cell_type": "markdown",
      "metadata": {
        "id": "pmJJB0Q6XMWy"
      },
      "source": [
        "###`Q-7:` Best bowler in death overs.\n",
        "*Note: Have taken most no of wickets in case of tie with least economy*\n",
        "\n",
        "Death Overs - [16-20]"
      ]
    },
    {
      "cell_type": "code",
      "execution_count": null,
      "metadata": {
        "id": "s2t1IXf-XLak"
      },
      "outputs": [],
      "source": [
        "# code here"
      ]
    },
    {
      "cell_type": "markdown",
      "metadata": {
        "id": "BHU3PYRTXbPc"
      },
      "source": [
        "###`Q-8` Batsman record season wise\n",
        "\n",
        "Make a function which takes a input `batsman_name` and it returns a dataframe.\n",
        "Columns of the data frame are - `['Season','Innings', 'TotalRuns', 'Avg', 'HighestScore','StrikeRate']`.\n",
        "* In result make `Season` column as index.\n",
        "\n",
        "* Avg - total_runs/ no of time got out. - player_out column will help.\n",
        "* StrikeRate -(total_runs/ balls faced) * 100- wides are not included in batsman ball faced counts. No balls are included. -> Extra_type column will help\n",
        "* Batsman Can score runs on No Balls.\n",
        "* Batsman can get out on No Ball or Wides. And even while being on non-striker. Keep these things in mind before masking."
      ]
    },
    {
      "cell_type": "code",
      "execution_count": null,
      "metadata": {
        "id": "3RQTt5ELXdbH"
      },
      "outputs": [],
      "source": [
        "# code here"
      ]
    },
    {
      "cell_type": "markdown",
      "metadata": {
        "id": "jMyy5LcUXjUA"
      },
      "source": [
        "###`Q-9` Using both dataset, make a dataframe as described below\n",
        "\n",
        "Data Frame columns-> `['PlayerOfThematch', 'BattingFigure', 'BowlingFigure']`\n",
        "\n",
        "* BattingFigure->`<runs>/<balls>`\n",
        "* BowlingFigure->`<wicket>/<runs-conceded>`\n",
        "\n",
        "DataFrame should have one record for each match.\n",
        "\n",
        "Say 'V Kohli' got POM award then in dataset include his batting figure of that match. Say he scored 112runs in 76 balls. And he hasn't bowled so Bowling Figure will be NaN\n",
        "```\n",
        "PlayerOfThematch BattingFigure BowlingFigure\n",
        "V Kohli          112/76         nan  \n",
        "\n",
        "```\n"
      ]
    },
    {
      "cell_type": "code",
      "execution_count": null,
      "metadata": {
        "id": "uh36R6AZXn82"
      },
      "outputs": [],
      "source": [
        "# code here"
      ]
    },
    {
      "cell_type": "markdown",
      "metadata": {
        "id": "iljGaXfzXq1t"
      },
      "source": [
        "## **Questions Based on Iris Dataset**\n",
        "\n",
        "- **Sepal All:** https://docs.google.com/spreadsheets/d/e/2PACX-1vT58ekmHTwptX7Bs4QOy6YByA1HMvYTACeeIjrKhHE0Pg1K_3egewHMKMh02zN9D5-yHVXfvuaa3s5u/pub?gid=2028782809&single=true&output=csv\n",
        "    - **Unnamed: 0:** Unused column. This column is created when creating this sub-dataset.\n",
        "    - **Id:** Id of the records.\n",
        "    - **SepalLengthCm:** Sepal length of flowers in cm\n",
        "    - **SepalWidthCm:** Sepal width of flowers in cm\n",
        "\n",
        "- **Petal All:** https://docs.google.com/spreadsheets/d/e/2PACX-1vQinLXShrOz4ExNaW1bSQVuvbbhIzJW7G0kkkD2SvqSD6STjLrQQiftgI7BGe10sBZi0CNr2_sJpQAz/pub?gid=1580010789&single=true&output=csv\n",
        "    - **Unnamed: 0:** Unused column. This column is created when creating this sub-dataset.\n",
        "    - **Id:** Id of the records.\n",
        "    - **PetalLengthCm:** Petal length of flowers in cm\n",
        "    - **PetalWidthCm:** Petal width of flowers in cm\n",
        "\n",
        "- **Iris Virginica:** https://docs.google.com/spreadsheets/d/e/2PACX-1vSK39MwduGPHYNgw5yViezoLYCVDKMCWIHzjnt3GZNaxHPFOQLr2q6no_tyqTsOk-VfXleslfGVe9eJ/pub?gid=314231613&single=true&output=csv\n",
        "    - **Unnamed: 0:** Unused column. This column is created when creating the sub-dataset.\n",
        "    - **Id:** Id of the records.\n",
        "    - **Species:** Name of this species.\n",
        "\n",
        "- **Iris Versicolor:** https://docs.google.com/spreadsheets/d/e/2PACX-1vTcSFgLnabqIrgIc5WlwvnbbvyyJsgZjR-0E0-4TR-5aHgv_0EP6yNWglkkls3AXM2qHCR5VYzWCoTM/pub?gid=715607857&single=true&output=csv\n",
        "    - **Unnamed: 0:** Unused column. This column is created when creating the sub-dataset.\n",
        "    - **Id:** Id of the records.\n",
        "    - **Species:** Name of this species.\n",
        "\n",
        "- **Iris Setosa:** https://docs.google.com/spreadsheets/d/e/2PACX-1vSjqJpdgy2X_oDUUqQ0sSaFKqnnf8MYU4KgJSYgHaHmq0Wb1weMOsJXh-rICHmkLcaTkOwzMYLeh959/pub?gid=2003684803&single=true&output=csv\n",
        "    - **Unnamed 0:** Unused column. This column is created when creating the sub-dataset.\n",
        "    - **Id:** Id of the records.\n",
        "    - **Species:** Name of this species."
      ]
    },
    {
      "cell_type": "code",
      "execution_count": null,
      "metadata": {
        "id": "nY1khG0XXp1X"
      },
      "outputs": [],
      "source": [
        "import pandas as pd\n",
        "sepal_all = pd.read_csv(\"https://docs.google.com/spreadsheets/d/e/2PACX-1vT58ekmHTwptX7Bs4QOy6YByA1HMvYTACeeIjrKhHE0Pg1K_3egewHMKMh02zN9D5-yHVXfvuaa3s5u/pub?gid=2028782809&single=true&output=csv\")\n",
        "petal_all = pd.read_csv(\"https://docs.google.com/spreadsheets/d/e/2PACX-1vQinLXShrOz4ExNaW1bSQVuvbbhIzJW7G0kkkD2SvqSD6STjLrQQiftgI7BGe10sBZi0CNr2_sJpQAz/pub?gid=1580010789&single=true&output=csv\")\n",
        "\n",
        "virginica = pd.read_csv(\"https://docs.google.com/spreadsheets/d/e/2PACX-1vSK39MwduGPHYNgw5yViezoLYCVDKMCWIHzjnt3GZNaxHPFOQLr2q6no_tyqTsOk-VfXleslfGVe9eJ/pub?gid=314231613&single=true&output=csv\")\n",
        "versicolor = pd.read_csv(\"https://docs.google.com/spreadsheets/d/e/2PACX-1vTcSFgLnabqIrgIc5WlwvnbbvyyJsgZjR-0E0-4TR-5aHgv_0EP6yNWglkkls3AXM2qHCR5VYzWCoTM/pub?gid=715607857&single=true&output=csv\")\n",
        "setosa = pd.read_csv(\"https://docs.google.com/spreadsheets/d/e/2PACX-1vSjqJpdgy2X_oDUUqQ0sSaFKqnnf8MYU4KgJSYgHaHmq0Wb1weMOsJXh-rICHmkLcaTkOwzMYLeh959/pub?gid=2003684803&single=true&output=csv\")\n"
      ]
    },
    {
      "cell_type": "markdown",
      "metadata": {
        "id": "R6jqy4GQX4RI"
      },
      "source": [
        "### `Q-9:` Plot a bar chart of the average Sepal Length  of Virginica and average Petal length of Setosa flower."
      ]
    },
    {
      "cell_type": "code",
      "execution_count": null,
      "metadata": {
        "id": "zTx5S3yiX15D"
      },
      "outputs": [],
      "source": [
        "# code here"
      ]
    },
    {
      "cell_type": "markdown",
      "metadata": {
        "id": "ecWHo_gsYAT2"
      },
      "source": [
        "### `Q-10:` Create the complete dataset by uisng the below datasets:\n",
        "- virginica\n",
        "- versicolor\n",
        "- setosa\n",
        "- sepal all\n",
        "- petal all\n",
        "\n",
        "This dataset should have these below column names in order:\n",
        "1. Id\n",
        "2. Species\n",
        "3. SepalLengthCm\n",
        "4. SepalWidthCm\n",
        "5. PetalLengthCm\n",
        "6. PetalWidthCm\n",
        "\n",
        "Also, the dataset should be shuffled means the `Id` column should not be in increasing or decreasing order. So, make a dataset which has the shuffled Id column. You can use `DataFrame.sample()` method to shuffle."
      ]
    },
    {
      "cell_type": "code",
      "execution_count": null,
      "metadata": {
        "id": "PsWBn7g3YDRZ"
      },
      "outputs": [],
      "source": [
        "# code here"
      ]
    },
    {
      "cell_type": "markdown",
      "metadata": {
        "id": "FLlBdChyYHtw"
      },
      "source": [
        "### `Q-11:` Find out the maximum and minimum sepal width and petal width of Setosa and Versicolor. To do this:\n",
        "- First create a dataset with merging the required datasets\n",
        "- After that, use `groupby` to create groups based on the \"Species\" column.\n",
        "- Then find out which are asked in this question.\n",
        "\n",
        "\n",
        "The output should be like this:\n",
        "```bash\n",
        "Minimum Sepal width of Setosa is 2.3\n",
        "Maximum Sepal width of Setosa is 4.4\n",
        "\n",
        "**************************************************\n",
        "\n",
        "Minimum Sepal width of Versicolor is 2.0\n",
        "Maximum Sepal width of Versicolor is 3.4\n",
        "\n",
        "**************************************************\n",
        "```"
      ]
    },
    {
      "cell_type": "code",
      "execution_count": null,
      "metadata": {
        "id": "T7toJgSkYIIF"
      },
      "outputs": [],
      "source": [
        "# code here"
      ]
    }
  ],
  "metadata": {
    "colab": {
      "provenance": []
    },
    "kernelspec": {
      "display_name": "Python 3",
      "name": "python3"
    },
    "language_info": {
      "codemirror_mode": {
        "name": "ipython",
        "version": 3
      },
      "file_extension": ".py",
      "mimetype": "text/x-python",
      "name": "python",
      "nbconvert_exporter": "python",
      "pygments_lexer": "ipython3",
      "version": "3.11.6"
    }
  },
  "nbformat": 4,
  "nbformat_minor": 0
}
