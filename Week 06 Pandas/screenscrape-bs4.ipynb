{
 "cells": [
  {
   "cell_type": "code",
   "execution_count": 1,
   "metadata": {},
   "outputs": [],
   "source": [
    "import requests\n",
    "from bs4 import BeautifulSoup"
   ]
  },
  {
   "cell_type": "code",
   "execution_count": 5,
   "metadata": {},
   "outputs": [],
   "source": [
    "# Path to your local HTML file\n",
    "file_path = \"/Users/girishmohite/Downloads/brocade.1.14.html\"  # Replace with the actual path to your file\n"
   ]
  },
  {
   "cell_type": "code",
   "execution_count": 6,
   "metadata": {},
   "outputs": [
    {
     "name": "stdout",
     "output_type": "stream",
     "text": [
      "Page Titles (Headings):\n",
      "- brocade.1.14\n",
      "\n",
      "Links on the page:\n",
      "\n",
      "Paragraphs:\n"
     ]
    }
   ],
   "source": [
    "# Open and read the local HTML file\n",
    "with open(file_path, \"r\", encoding=\"utf-8\") as file:\n",
    "    # Parse the HTML content\n",
    "    soup = BeautifulSoup(file, \"html.parser\")\n",
    "\n",
    "    # Example 1: Extract all the titles (headings)\n",
    "    print(\"Page Titles (Headings):\")\n",
    "    for heading in soup.find_all(['h1', 'h2', 'h3', 'h4', 'h5', 'h6']):\n",
    "        print(f\"- {heading.text.strip()}\")\n",
    "\n",
    "    # Example 2: Extract all the links\n",
    "    print(\"\\nLinks on the page:\")\n",
    "    for link in soup.find_all(\"a\", href=True):\n",
    "        print(f\"- {link.text.strip()} -> {link['href']}\")\n",
    "\n",
    "    # Example 3: Extract all paragraph texts\n",
    "    print(\"\\nParagraphs:\")\n",
    "    for paragraph in soup.find_all(\"p\"):\n",
    "        print(f\"- {paragraph.text.strip()}\")"
   ]
  }
 ],
 "metadata": {
  "kernelspec": {
   "display_name": ".venv",
   "language": "python",
   "name": "python3"
  },
  "language_info": {
   "codemirror_mode": {
    "name": "ipython",
    "version": 3
   },
   "file_extension": ".py",
   "mimetype": "text/x-python",
   "name": "python",
   "nbconvert_exporter": "python",
   "pygments_lexer": "ipython3",
   "version": "3.11.6"
  }
 },
 "nbformat": 4,
 "nbformat_minor": 2
}
