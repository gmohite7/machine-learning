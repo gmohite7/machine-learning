{
  "cells": [
    {
      "cell_type": "markdown",
      "metadata": {
        "id": "p0XowH4lIsCY"
      },
      "source": [
        "### Q1. Given the vectors A = [1, 2, 3] and B = [4, 5, 6], calculate the element-wise product of the two vectors."
      ]
    },
    {
      "cell_type": "code",
      "execution_count": 1,
      "metadata": {
        "colab": {
          "base_uri": "https://localhost:8080/"
        },
        "id": "50YRdB1sIuKd",
        "outputId": "52a3cdb9-bb8b-4042-9080-569316766307"
      },
      "outputs": [
        {
          "name": "stdout",
          "output_type": "stream",
          "text": [
            "[ 4 10 18]\n"
          ]
        }
      ],
      "source": [
        "# Solution\n",
        "import numpy as np\n",
        "\n",
        "A = np.array([1, 2, 3])\n",
        "B = np.array([4, 5, 6])\n",
        "\n",
        "element_wise_product = A * B\n",
        "\n",
        "print(element_wise_product)\n"
      ]
    },
    {
      "cell_type": "markdown",
      "metadata": {
        "id": "scgddy7XIy_c"
      },
      "source": [
        "### Q2. Find the magnitude of the vector C = [2, -3, 1].\n"
      ]
    },
    {
      "cell_type": "code",
      "execution_count": 2,
      "metadata": {
        "colab": {
          "base_uri": "https://localhost:8080/"
        },
        "id": "IewpphaFIvOO",
        "outputId": "7cf54dba-2d34-489b-e307-ca261d020a71"
      },
      "outputs": [
        {
          "name": "stdout",
          "output_type": "stream",
          "text": [
            "3.7416573867739413\n",
            "3.7416573867739413\n"
          ]
        }
      ],
      "source": [
        "# Solution\n",
        "\n",
        "import numpy as np\n",
        "\n",
        "C = np.array([2, -3, 1])\n",
        "\n",
        "magnitude = np.linalg.norm(C)\n",
        "\n",
        "print(magnitude)\n",
        "\n",
        "# Method 2\n",
        "\n",
        "print(np.sqrt(np.sum(C**2)))"
      ]
    },
    {
      "cell_type": "markdown",
      "metadata": {
        "id": "W1PVZvdlJYeu"
      },
      "source": [
        "### Q3. Given the vectors D = [1, 2, 3] and E = [4, 5, 6], calculate the cosine of the angle between them."
      ]
    },
    {
      "cell_type": "code",
      "execution_count": 3,
      "metadata": {
        "id": "e7ff5bA2JDzg"
      },
      "outputs": [
        {
          "name": "stdout",
          "output_type": "stream",
          "text": [
            "0.9746318461970762\n"
          ]
        }
      ],
      "source": [
        "# Solution\n",
        "import numpy as np\n",
        "\n",
        "D = np.array([1, 2, 3])\n",
        "E = np.array([4, 5, 6])\n",
        "\n",
        "cosine_angle = np.dot(D, E) / (np.linalg.norm(D) * np.linalg.norm(E))\n",
        "\n",
        "print(cosine_angle)\n"
      ]
    },
    {
      "cell_type": "markdown",
      "metadata": {
        "id": "bIdfhN23KCCU"
      },
      "source": [
        "### Q4. Given the vectors F = [1, 2, 3] and G = [4, 5, 6], calculate the cross product of the two vectors."
      ]
    },
    {
      "cell_type": "code",
      "execution_count": 4,
      "metadata": {
        "id": "212IG1_mKDwr"
      },
      "outputs": [
        {
          "name": "stdout",
          "output_type": "stream",
          "text": [
            "[-3  6 -3]\n",
            "32\n"
          ]
        }
      ],
      "source": [
        "# Solution\n",
        "import numpy as np\n",
        "\n",
        "F = np.array([1, 2, 3])\n",
        "G = np.array([4, 5, 6])\n",
        "\n",
        "cross_product = np.cross(F, G)\n",
        "\n",
        "print(cross_product)\n",
        "\n",
        "# Method 2\n",
        "print(F@G)"
      ]
    },
    {
      "cell_type": "markdown",
      "metadata": {
        "id": "Z27X68kgKFB7"
      },
      "source": [
        "### Q5. Given the vector H = [2, 4, 6], shift the vector +1 unit in each dimension"
      ]
    },
    {
      "cell_type": "code",
      "execution_count": 5,
      "metadata": {
        "id": "aNOXUVsqKhp6"
      },
      "outputs": [
        {
          "name": "stdout",
          "output_type": "stream",
          "text": [
            "[3 5 7]\n"
          ]
        }
      ],
      "source": [
        "# Solution\n",
        "import numpy as np\n",
        "\n",
        "H = np.array([2, 4, 6])\n",
        "\n",
        "shifted_vector = H + 1\n",
        "\n",
        "print(shifted_vector)\n"
      ]
    },
    {
      "cell_type": "markdown",
      "metadata": {
        "id": "f7uNPhjWKqZC"
      },
      "source": [
        "### Q6. Given the vectors I = [1, 2, 3] and J = [4, 5, 6], calculate the projection of vector I onto vector J."
      ]
    },
    {
      "cell_type": "code",
      "execution_count": 6,
      "metadata": {
        "id": "IjcjYblCKr46"
      },
      "outputs": [
        {
          "name": "stdout",
          "output_type": "stream",
          "text": [
            "[1.66233766 2.07792208 2.49350649]\n"
          ]
        }
      ],
      "source": [
        "# Solution\n",
        "import numpy as np\n",
        "\n",
        "I = np.array([1, 2, 3])\n",
        "J = np.array([4, 5, 6])\n",
        "\n",
        "projection_I_onto_J = (np.dot(I, J) / np.dot(J, J)) * J\n",
        "\n",
        "print(projection_I_onto_J)\n"
      ]
    },
    {
      "cell_type": "markdown",
      "metadata": {
        "id": "Lf0lmetXN8xF"
      },
      "source": [
        "### Q7. Consider the 2D - position vector a = (1, 3). If b is the point (5, 4), find the vector `ab` and the vector sum `a + ab`. Provide a sketch plot.\n",
        "\n",
        "Note: Search for quiver, to plot an arrow."
      ]
    },
    {
      "cell_type": "code",
      "execution_count": 7,
      "metadata": {
        "colab": {
          "base_uri": "https://localhost:8080/",
          "height": 492
        },
        "id": "KEhXZff_Oekn",
        "outputId": "997881b4-a1ab-485e-f7b5-a4ced9512029"
      },
      "outputs": [
        {
          "name": "stdout",
          "output_type": "stream",
          "text": [
            "Vector ab: [4 1]\n",
            "Vector sum a + ab: [5 4]\n"
          ]
        },
        {
          "data": {
            "image/png": "[encoded data removed]",
            "text/plain": [
              "<Figure size 640x480 with 1 Axes>"
            ]
          },
          "metadata": {},
          "output_type": "display_data"
        }
      ],
      "source": [
        "# Solution\n",
        "import numpy as np\n",
        "import matplotlib.pyplot as plt\n",
        "\n",
        "a = np.array([1, 3])\n",
        "b = np.array([5, 4])\n",
        "\n",
        "# Calculate vector ab\n",
        "ab = b - a\n",
        "print(\"Vector ab:\", ab)\n",
        "\n",
        "# Calculate vector sum a + ab\n",
        "a_plus_ab = a + ab\n",
        "print(\"Vector sum a + ab:\", a_plus_ab)\n",
        "\n",
        "# Plot the vectors a, b, and ab\n",
        "origin = np.array([0, 0])\n",
        "\n",
        "plt.quiver(*origin, a[0], a[1], angles='xy', scale_units='xy', scale=1, color='r', label='a')\n",
        "plt.scatter(b[0], b[1], color='b', label='b')\n",
        "plt.quiver(*a, ab[0], ab[1], angles='xy', scale_units='xy', scale=1, color='g', label='ab')\n",
        "plt.quiver(*origin, a_plus_ab[0], a_plus_ab[1], angles='xy', scale_units='xy', scale=1, color='m', label='a+ab')\n",
        "\n",
        "plt.xlim(-1, 7)\n",
        "plt.ylim(-1, 7)\n",
        "plt.xlabel('x')\n",
        "plt.ylabel('y')\n",
        "plt.legend()\n",
        "plt.grid()\n",
        "plt.show()\n"
      ]
    },
    {
      "cell_type": "markdown",
      "metadata": {
        "id": "gwYzLGPgO3kX"
      },
      "source": [
        "### Q8. Given two 2D vectors `u` and `v` where `u = [-1, 4]` and `v = [3, -2]`, find the dot product `u . v`, the angle between `u` and `v`, and the projection of `u` onto `v`."
      ]
    },
    {
      "cell_type": "code",
      "execution_count": 8,
      "metadata": {
        "colab": {
          "base_uri": "https://localhost:8080/"
        },
        "id": "BMMqUeSWO5Mo",
        "outputId": "180602b2-9efe-4baf-a25e-1011183ebc47"
      },
      "outputs": [
        {
          "name": "stdout",
          "output_type": "stream",
          "text": [
            "Dot product of u and v: -11\n",
            "Angle between u and v in radians: 2.4037775934693286\n",
            "Projection of u onto v: [-2.53846154  1.69230769]\n"
          ]
        }
      ],
      "source": [
        "# Solution\n",
        "import numpy as np\n",
        "\n",
        "u = np.array([-1, 4])\n",
        "v = np.array([3, -2])\n",
        "\n",
        "# Dot product of u and v\n",
        "dot_uv = np.dot(u, v)\n",
        "print(\"Dot product of u and v:\", dot_uv)\n",
        "\n",
        "# Angle between u and v in radians\n",
        "cos_theta = dot_uv / (np.linalg.norm(u) * np.linalg.norm(v))\n",
        "theta = np.arccos(cos_theta)\n",
        "print(\"Angle between u and v in radians:\", theta)\n",
        "\n",
        "# Projection of u onto v\n",
        "proj_u_onto_v = (np.dot(u, v) / np.dot(v, v)) * v\n",
        "print(\"Projection of u onto v:\", proj_u_onto_v)\n",
        "\n"
      ]
    },
    {
      "cell_type": "markdown",
      "metadata": {
        "id": "OyMaym-0AW4x"
      },
      "source": [
        "### Q9. Given a hyperplane defined by the equation 3x - 2y + z = 1, find two different points that lie on this hyperplane."
      ]
    },
    {
      "cell_type": "code",
      "execution_count": 9,
      "metadata": {
        "colab": {
          "base_uri": "https://localhost:8080/"
        },
        "id": "vrqkQwByPGzk",
        "outputId": "ac574dd6-000d-4537-e507-3f20a23a3a0e"
      },
      "outputs": [
        {
          "name": "stdout",
          "output_type": "stream",
          "text": [
            "Point 1: [0 0 1]\n",
            "[ 2  5 -3]\n"
          ]
        }
      ],
      "source": [
        "# Solution\n",
        "import numpy as np\n",
        "\n",
        "# Hyperplane equation: 3x - 2y + z = 1\n",
        "\n",
        "# Let x = 0, y = 0\n",
        "z = 1\n",
        "p1 = np.array([0, 0, z])\n",
        "print(\"Point 1:\", p1)\n",
        "\n",
        "# Let x = 2, y = 5\n",
        "x = 2\n",
        "y = 5\n",
        "z = 3*x - 2*y + 1\n",
        "p2 = np.array([x, y, z])\n",
        "print(p2)\n"
      ]
    },
    {
      "cell_type": "markdown",
      "metadata": {
        "id": "_kN3NbbQCBQn"
      },
      "source": [
        "### Q10. Find a nearest point from a given array of points to a point P1.\n",
        "P1 - (3,9,3)\n",
        "\n",
        "Array of points :\n",
        "```\n",
        "[[1, 8, 5],\n",
        "[8, 8, 2],\n",
        "[7, 9, 1],\n",
        "[5, 6, 3],\n",
        "[9, 1, 2],\n",
        "[6, 5, 9],\n",
        "[5, 8, 6],\n",
        "[3, 4, 8],\n",
        "[6, 8, 4],\n",
        "[7, 2, 7]]\n",
        "```"
      ]
    },
    {
      "cell_type": "code",
      "execution_count": 10,
      "metadata": {
        "colab": {
          "base_uri": "https://localhost:8080/"
        },
        "id": "zeUVU6B6Bk77",
        "outputId": "632486ad-91e6-4234-a003-3091a5227bd6"
      },
      "outputs": [
        {
          "name": "stdout",
          "output_type": "stream",
          "text": [
            "Nearest point: [1 8 5]\n"
          ]
        }
      ],
      "source": [
        "# Solution\n",
        "\n",
        "import numpy as np\n",
        "import matplotlib.pyplot as plt\n",
        "from mpl_toolkits.mplot3d import Axes3D\n",
        "\n",
        "# Generate array of 10 random 3-D points\n",
        "points = np.array([[1, 8, 5],\n",
        "       [8, 8, 2],\n",
        "       [7, 9, 1],\n",
        "       [5, 6, 3],\n",
        "       [9, 1, 2],\n",
        "       [6, 5, 9],\n",
        "       [5, 8, 6],\n",
        "       [3, 4, 8],\n",
        "       [6, 8, 4],\n",
        "       [7, 2, 7]])\n",
        "\n",
        "# Define target point\n",
        "target = np.array([3, 9, 3])\n",
        "\n",
        "# Calculate distances between target point and each point in the array\n",
        "distances = np.linalg.norm(points - target, axis=1)\n",
        "\n",
        "# Find index of point with shortest distance\n",
        "index_min_distance = np.argmin(distances)\n",
        "\n",
        "# Retrieve point with shortest distance\n",
        "point_min_distance = points[index_min_distance]\n",
        "\n",
        "print(\"Nearest point:\", point_min_distance)\n",
        "\n",
        "\n",
        "# Uncomment below to see plot\n",
        "# # Create figure and axis for 3-D scatter plot\n",
        "# fig = plt.figure()\n",
        "# ax = fig.add_subplot(111, projection='3d')\n",
        "\n",
        "# # Plot all points as blue\n",
        "# ax.scatter(points[:, 0], points[:, 1], points[:, 2], color='blue')\n",
        "\n",
        "# # Plot target point as red\n",
        "# ax.scatter(target[0], target[1], target[2], color='red')\n",
        "\n",
        "# # Plot nearest point as green\n",
        "# ax.scatter(point_min_distance[0], point_min_distance[1], point_min_distance[2], color='yellow')\n",
        "\n",
        "# # Set labels and title\n",
        "# ax.set_xlabel('X')\n",
        "# ax.set_ylabel('Y')\n",
        "# ax.set_zlabel('Z')\n",
        "# ax.set_title('3-D Scatter Plot')\n",
        "\n",
        "# # Show plot\n",
        "# plt.show()\n"
      ]
    },
    {
      "cell_type": "code",
      "execution_count": null,
      "metadata": {
        "id": "YD-LR-qsDWhW"
      },
      "outputs": [],
      "source": [
        "# Solving system of linear equations using matrix\n",
        "# x + 2y + 3z = 10\n",
        "# 4x -8y - 2z = 20\n",
        "# x + y + z = 30"
      ]
    },
    {
      "cell_type": "code",
      "execution_count": 12,
      "metadata": {},
      "outputs": [],
      "source": [
        "A = np.array([[1,2,3],[4,-8,-2],[1,1,1]])"
      ]
    },
    {
      "cell_type": "code",
      "execution_count": null,
      "metadata": {},
      "outputs": [],
      "source": [
        "B = np.array([10,20,30])"
      ]
    },
    {
      "cell_type": "code",
      "execution_count": 13,
      "metadata": {},
      "outputs": [],
      "source": [
        "X = np.dot(np.linalg.inv(A),B)"
      ]
    },
    {
      "cell_type": "code",
      "execution_count": 14,
      "metadata": {},
      "outputs": [
        {
          "data": {
            "text/plain": [
              "array([ 5.61111111,  2.77777778, -2.38888889])"
            ]
          },
          "execution_count": 14,
          "metadata": {},
          "output_type": "execute_result"
        }
      ],
      "source": [
        "X"
      ]
    },
    {
      "cell_type": "markdown",
      "metadata": {
        "id": "qxGNE0oFPZsv"
      },
      "source": [
        "### Thank You!!"
      ]
    },
    {
      "cell_type": "code",
      "execution_count": 4,
      "metadata": {},
      "outputs": [],
      "source": [
        "import pandas as pd"
      ]
    },
    {
      "cell_type": "code",
      "execution_count": 1,
      "metadata": {},
      "outputs": [],
      "source": [
        "import seaborn as sns"
      ]
    },
    {
      "cell_type": "code",
      "execution_count": 2,
      "metadata": {},
      "outputs": [],
      "source": [
        "import pandas as pd\n",
        "import numpy as np"
      ]
    }
  ],
  "metadata": {
    "colab": {
      "provenance": []
    },
    "kernelspec": {
      "display_name": "Python 3",
      "name": "python3"
    },
    "language_info": {
      "codemirror_mode": {
        "name": "ipython",
        "version": 3
      },
      "file_extension": ".py",
      "mimetype": "text/x-python",
      "name": "python",
      "nbconvert_exporter": "python",
      "pygments_lexer": "ipython3",
      "version": "3.11.6"
    }
  },
  "nbformat": 4,
  "nbformat_minor": 0
}
